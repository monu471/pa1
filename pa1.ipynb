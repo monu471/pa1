{
 "cells": [
  {
   "cell_type": "markdown",
   "id": "9e239857",
   "metadata": {},
   "source": [
    "#### Q1. What is the purpose of Python OOP?\n",
    "to increase the code reuseablity."
   ]
  },
  {
   "cell_type": "markdown",
   "id": "f53a58ac",
   "metadata": {},
   "source": [
    "### Q2.Where does an inheritance search look for an attribute?\n",
    "first in the instance object, then in the class the instance was created from, then in all higher superclasses, progressing from left to right (by default)"
   ]
  },
  {
   "cell_type": "markdown",
   "id": "8d700c03",
   "metadata": {},
   "source": [
    "#### Q3 How do you distinguish between a class object and an instance object?\n",
    "class object and an instance object by the way they are created and used. A class is defined by the programmer and can be thought of as a template for creating objects. An instance object is created by using the class as a blueprint, and is a unique copy of that class."
   ]
  },
  {
   "cell_type": "markdown",
   "id": "3fe0e1e4",
   "metadata": {},
   "source": [
    "#### Q4. What makes the first argument in a class’s method function special?\n",
    "In Python, the first argument in a class's method is special because it is conventionally named \"self\". It refers to the instance of the object on which the method is being called. It is used to access the attributes and methods of the class within the method."
   ]
  },
  {
   "cell_type": "markdown",
   "id": "591ab23c",
   "metadata": {},
   "source": [
    "#### Q5. What is the purpose of the __init__ method?\n",
    "\n",
    "The init method is a special method in Python classes that is used to initialize an object's state when it is created. It is also known as a constructor method. The method is automatically called when a new instance object is created from the class, and it is used to set up any attributes or other necessary internal state of the object before it is used"
   ]
  },
  {
   "cell_type": "markdown",
   "id": "58ee17b9",
   "metadata": {},
   "source": [
    "#### Q6. What is the process for creating a class instance?\n",
    "Define a class: This is done by using the class keyword, followed by the name of the class, and a colon. The class definition should include a constructor method, called __init__ and any other methods and attributes needed by the class.\n",
    "\n",
    "Instantiate the class: This is done by calling the class as if it were a function, passing any necessary arguments to the constructor method. This creates a new instance of the class, and assigns it to a variable. The instantiation process internally calls the __init__ method.\n",
    "\n",
    "Use the instance: After the instance is created, you can use its methods and attributes to perform tasks and access its internal state."
   ]
  },
  {
   "cell_type": "markdown",
   "id": "51081c87",
   "metadata": {},
   "source": [
    "### Q7 . What is the process for creating a class?\n",
    "\n",
    "create a class using keyword \"class following by class name\"\n",
    "\n",
    "\n",
    "\n",
    "class Person:\n",
    "\n",
    "    def __init__(self, name, age):\n",
    "    \n",
    "        self.name = name\n",
    "        self.age = age\n",
    "    def say_hello(self):\n",
    "        print(f\"Hello, my name is {self.name}\")\n",
    "\n",
    "p1 = Person(\"John\", 30)\n",
    "\n",
    "p2 = Person(\"Mary\", 25)\n"
   ]
  },
  {
   "attachments": {},
   "cell_type": "markdown",
   "id": "131b526c",
   "metadata": {},
   "source": [
    "### Q8 .How would you define the superclasses of a class?\n",
    "A class can inherit properties and methods from one or more classes, known as its superclasses or parent classes. The class that inherits from a superclass is known as a subclass or child class. The subclass inherits the attributes and methods of the superclass, and can also have its own attributes and methods. In object-oriented programming, this is known as inheritance, and it allows for code reusability and modularity."
   ]
  },
  {
   "cell_type": "markdown",
   "id": "d5c1f170",
   "metadata": {},
   "source": []
  }
 ],
 "metadata": {
  "kernelspec": {
   "display_name": "Python 3 (ipykernel)",
   "language": "python",
   "name": "python3"
  },
  "language_info": {
   "codemirror_mode": {
    "name": "ipython",
    "version": 3
   },
   "file_extension": ".py",
   "mimetype": "text/x-python",
   "name": "python",
   "nbconvert_exporter": "python",
   "pygments_lexer": "ipython3",
   "version": "3.9.12"
  }
 },
 "nbformat": 4,
 "nbformat_minor": 5
}
